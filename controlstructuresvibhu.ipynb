{
  "nbformat": 4,
  "nbformat_minor": 0,
  "metadata": {
    "colab": {
      "provenance": [],
      "authorship_tag": "ABX9TyMhTQFu0MRD/eQmE3mPdxWx",
      "include_colab_link": true
    },
    "kernelspec": {
      "name": "python3",
      "display_name": "Python 3"
    },
    "language_info": {
      "name": "python"
    }
  },
  "cells": [
    {
      "cell_type": "markdown",
      "metadata": {
        "id": "view-in-github",
        "colab_type": "text"
      },
      "source": [
        "<a href=\"https://colab.research.google.com/github/vaibhavjha06/vibhunotes/blob/main/controlstructuresvibhu.ipynb\" target=\"_parent\"><img src=\"https://colab.research.google.com/assets/colab-badge.svg\" alt=\"Open In Colab\"/></a>"
      ]
    },
    {
      "cell_type": "code",
      "execution_count": 1,
      "metadata": {
        "colab": {
          "base_uri": "https://localhost:8080/"
        },
        "id": "H4MESYSav6M3",
        "outputId": "62cf57f9-a8b1-4557-b409-cec7c49cc52e"
      },
      "outputs": [
        {
          "output_type": "stream",
          "name": "stdout",
          "text": [
            "3\n"
          ]
        },
        {
          "output_type": "execute_result",
          "data": {
            "text/plain": [
              "3"
            ]
          },
          "metadata": {},
          "execution_count": 1
        }
      ],
      "source": [
        "val = -3\n",
        "\n",
        "if val >=0:\n",
        "  print(val)\n",
        "  fun_my_function(val)\n",
        "else :\n",
        "  print(-val)\n",
        "\n",
        "abs(val)"
      ]
    },
    {
      "cell_type": "code",
      "source": [
        "z = 4\n",
        "if z%2 == 0:\n",
        "  print('z is even')\n",
        "else:\n",
        "  print('z is odd')\n"
      ],
      "metadata": {
        "id": "g8E6AA8V1t6C",
        "colab": {
          "base_uri": "https://localhost:8080/"
        },
        "outputId": "833871c5-1d7b-412e-9fac-e4047fe91555"
      },
      "execution_count": null,
      "outputs": [
        {
          "output_type": "stream",
          "name": "stdout",
          "text": [
            "z is even\n"
          ]
        }
      ]
    },
    {
      "cell_type": "code",
      "source": [
        "val = -2\n",
        "if -10 < val < -5:\n",
        "    print('bucket 1')\n",
        "if -5 <= val < -2:\n",
        "    print('bucket 2')\n",
        "elif val == -2:\n",
        "  print('bucket 3')\n",
        "else:\n",
        "  print(\"Does not meet any condition\")"
      ],
      "metadata": {
        "colab": {
          "base_uri": "https://localhost:8080/"
        },
        "id": "3FZc-ap_3qdP",
        "outputId": "81d0ec89-ee67-45ba-c2b9-5cdac18ff38a"
      },
      "execution_count": null,
      "outputs": [
        {
          "output_type": "stream",
          "name": "stdout",
          "text": [
            "bucket 3\n"
          ]
        }
      ]
    },
    {
      "cell_type": "code",
      "source": [
        "x = 12\n",
        "\n",
        "if x%2 == 0 and x%3 == 0:\n",
        "  print(str(x) + \" is divisible by 2 and 3.\")\n",
        "elif x%2 == 0:\n",
        "  print(str(x) + \" is divisible by 2.\")\n",
        "elif x%3 == 0:\n",
        "  print(str(x) + \" is divisible by 3.\")\n",
        "else:\n",
        "  print(str(x) + \" is neither divisible by 2 nor by 3.\")"
      ],
      "metadata": {
        "id": "-jkjBGsg3suR",
        "colab": {
          "base_uri": "https://localhost:8080/"
        },
        "outputId": "be43f102-284b-4ac2-cab6-221d27f98311"
      },
      "execution_count": null,
      "outputs": [
        {
          "output_type": "stream",
          "name": "stdout",
          "text": [
            "12 is divisible by 2 and 3.\n"
          ]
        }
      ]
    },
    {
      "cell_type": "code",
      "source": [
        "# Writing if else as one liners\n",
        "\n",
        "x = 3\n",
        "print('odd') if x % 2 == 1 else print('even')\n",
        "\n",
        "lyon = 66901\n",
        "print('odd') if x % 2 != 0 else print('even')"
      ],
      "metadata": {
        "id": "fXqBYPkI6RCZ"
      },
      "execution_count": null,
      "outputs": []
    },
    {
      "cell_type": "code",
      "source": [
        "# Complex statements\n",
        "\n",
        "trea = 7\n",
        "\n",
        "if (-5 < trea < 5) or (trea > 15):\n",
        "  print('interesting number man')\n",
        "else:\n",
        "  print('my boy')"
      ],
      "metadata": {
        "id": "jCUsj093IF0e"
      },
      "execution_count": null,
      "outputs": []
    },
    {
      "cell_type": "code",
      "source": [
        "### Loops ###\n",
        "\n",
        "# while condition: numerically calculating model, 'repeating action until condition is met'\n",
        "food = 2\n",
        "\n",
        "while food < 20:\n",
        "  food = food + 5\n",
        "print(food)\n",
        "\n",
        "# can break - exit the loop\n",
        "# quit the loop early is some condition is met, uses if-statement\n",
        "\n",
        "vaishu = 5\n",
        "while vaishu < 10:\n",
        "  vaishu = vaishu *2\n",
        "  if vaishu == 20:\n",
        "    break\n",
        "print(vaishu)\n",
        "\n",
        "# can continue - stop the current iteration\n",
        "# skipping behavior, uses if-statement\n",
        "\n",
        "ix = 1\n",
        "while ix < 10:\n",
        "  ix = ix *2\n",
        "  if ix == 4:\n",
        "    print('skipping 4...')\n",
        "    continue\n",
        "  print(ix)\n",
        "\n",
        "\n",
        "\n",
        "# for loop\n",
        "# for var in seq:\n",
        "# expression, 'for each var in seq, execute the expression'\n",
        "# iterate over an iterable\n",
        "\n",
        "cities = ['Charlottesville', 'New York', 'Lyon', 'Paris', 'Istanbul', 'Delhi']\n",
        "for city in cities:\n",
        "  city = city.lower()\n",
        "  print(city)\n",
        "\n",
        "# made all the cities' characters in lowercase by going one-by-one in the list and applying the for loop to all elements in the series\n",
        "\n",
        "for city in cities:\n",
        "  if city == 'Istanbul':\n",
        "    break\n",
        "  city = city.lower()\n",
        "  print(city)\n",
        "# stopped at Istanbul\n",
        "\n",
        "for city in cities:\n",
        "  if city == 'Istanbul':\n",
        "    continue\n",
        "  city = city.lower()\n",
        "  print(city)\n",
        "# skipped Istanbul and continued to Delhi with 'continue'\n",
        "\n",
        "# Searching through dictionaries by key\n",
        "\n",
        "groceries = {'lime': 2, 'salmon': 1, 'chicken': 3, 'eggs': 6, 'chobani': 4, 'flounder':0}\n",
        "meat = \"chicken\"\n",
        "\n",
        "for items in groceries:\n",
        "  if (items == meat):\n",
        "    print(\"I need \" + str(groceries[meat]) + ' tray(s) of meat for tomorrow\\'s game.')\n",
        "  else:\n",
        "    print('I also need this.')\n",
        "\n",
        "# searched for an item throughout a dictionary using the for function, setting the if statement condition as equal to the key I am interested in\n"
      ],
      "metadata": {
        "id": "sjEMLUcuIx9l"
      },
      "execution_count": null,
      "outputs": []
    },
    {
      "cell_type": "markdown",
      "source": [
        "For loops vs. while loops\n",
        "\n",
        "For loops are for a known number of iterations prior to running. We run it through a series of known length.\n",
        "While loops are for an unknown number of iterations prior to running. They can run through functions. Even be 'unending.'"
      ],
      "metadata": {
        "id": "2MAFRmb6PV2-"
      }
    },
    {
      "cell_type": "code",
      "source": [
        "# Practice\n",
        "\n",
        "x = 3\n",
        "if x == 3:\n",
        "  print(\"This is Bryce Harper's number\")\n",
        "else:\n",
        "  print(\"This is not BH's number\")\n",
        "\n",
        "avg = .322\n",
        "if avg <= .250:\n",
        "  print(\"This batting average is below-average.\")\n",
        "elif avg == .273:\n",
        "  print(\"This is an average batting average in the MLB.\")\n",
        "elif avg >= .290:\n",
        "  print(\"This is a very good batting average in the MLB.\")\n",
        "else:\n",
        "  print(\"Idk, but this ain't Bryce Harper.\")\n",
        "\n",
        "fireball = 21\n",
        "print('that\\'s my boy') if fireball == 21 else print('nope not a clue')"
      ],
      "metadata": {
        "colab": {
          "base_uri": "https://localhost:8080/"
        },
        "id": "kADQa_5XK0AD",
        "outputId": "6e90444b-4376-4b59-a349-4134a737cfaf"
      },
      "execution_count": null,
      "outputs": [
        {
          "output_type": "stream",
          "name": "stdout",
          "text": [
            "This is Bryce Harper's number\n",
            "This is a very good batting average in the MLB.\n",
            "that's my boy\n"
          ]
        }
      ]
    }
  ]
}