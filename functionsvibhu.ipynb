{
  "nbformat": 4,
  "nbformat_minor": 0,
  "metadata": {
    "colab": {
      "provenance": [],
      "authorship_tag": "ABX9TyPhxKIoyexeg/0ABFXaBr9F",
      "include_colab_link": true
    },
    "kernelspec": {
      "name": "python3",
      "display_name": "Python 3"
    },
    "language_info": {
      "name": "python"
    }
  },
  "cells": [
    {
      "cell_type": "markdown",
      "metadata": {
        "id": "view-in-github",
        "colab_type": "text"
      },
      "source": [
        "<a href=\"https://colab.research.google.com/github/vaibhavjha06/vibhunotes/blob/main/functionsvibhu.ipynb\" target=\"_parent\"><img src=\"https://colab.research.google.com/assets/colab-badge.svg\" alt=\"Open In Colab\"/></a>"
      ]
    },
    {
      "cell_type": "code",
      "execution_count": 2,
      "metadata": {
        "colab": {
          "base_uri": "https://localhost:8080/",
          "height": 35
        },
        "id": "6fsbe41fywMy",
        "outputId": "552f72ad-1c75-41f1-e1c0-d4046485ac2c"
      },
      "outputs": [
        {
          "output_type": "execute_result",
          "data": {
            "text/plain": [
              "'!\"#$%&\\'()*+,-./:;<=>?@[\\\\]^_`{|}~'"
            ],
            "application/vnd.google.colaboratory.intrinsic+json": {
              "type": "string"
            }
          },
          "metadata": {},
          "execution_count": 2
        }
      ],
      "source": [
        "# Create a password generator\n",
        "\n",
        "import string\n",
        "import random\n",
        "\n",
        "lcletters = string.ascii_lowercase\n",
        "# ascii_lowercase is a method in the string package, gives all lowercase letters in the alphabet\n",
        "lcletters\n",
        "\n",
        "ucletters = string.ascii_uppercase\n",
        "ucletters\n",
        "\n",
        "digits = string.digits\n",
        "digits\n",
        "\n",
        "punct = string.punctuation\n",
        "punct"
      ]
    },
    {
      "cell_type": "code",
      "source": [
        "char = random.choice(lcletters)\n",
        "char\n",
        "\n",
        "# want to choose from all characters\n",
        "\n",
        "allchars = lcletters + ucletters + digits + punct\n",
        "allchars\n",
        "\n",
        "char\n",
        "# concatenated all the characters, now can randomly choose between them"
      ],
      "metadata": {
        "colab": {
          "base_uri": "https://localhost:8080/",
          "height": 35
        },
        "id": "mKRT_zxKzo84",
        "outputId": "0de9d3c8-214c-4bd6-e5ba-c4561926fcbf"
      },
      "execution_count": 3,
      "outputs": [
        {
          "output_type": "execute_result",
          "data": {
            "text/plain": [
              "'x'"
            ],
            "application/vnd.google.colaboratory.intrinsic+json": {
              "type": "string"
            }
          },
          "metadata": {},
          "execution_count": 3
        }
      ]
    },
    {
      "cell_type": "code",
      "source": [
        "passwd = ''\n",
        "# adding to this empty variable\n",
        "\n",
        "for c in range(10):\n",
        "  passwd += random.choice(allchars)\n",
        "  passwd = passwd.replace(\"'\", \"\")\n",
        "  passwd = passwd.replace('\"', '')\n",
        "\n",
        "print(passwd)"
      ],
      "metadata": {
        "colab": {
          "base_uri": "https://localhost:8080/"
        },
        "id": "L_k86oX60UW_",
        "outputId": "66da46f2-7701-4746-a6af-b713126cf19a"
      },
      "execution_count": 4,
      "outputs": [
        {
          "output_type": "stream",
          "name": "stdout",
          "text": [
            "FLpf)\\x3:\n"
          ]
        }
      ]
    },
    {
      "cell_type": "code",
      "source": [
        "allchars = lcletters+ucletters+digits+punct\n",
        "\n",
        "def give_me_a_password(length):\n",
        "  passwd = ''\n",
        "  for c in range(length):\n",
        "    passwd += random.choice(allchars)\n",
        "  return(passwd)\n",
        "\n",
        "\n",
        "give_me_a_password(14)"
      ],
      "metadata": {
        "colab": {
          "base_uri": "https://localhost:8080/",
          "height": 35
        },
        "id": "ps6z5dIV2yF3",
        "outputId": "dd15b643-dbb8-465d-9b68-5a2e9ef32017"
      },
      "execution_count": 7,
      "outputs": [
        {
          "output_type": "execute_result",
          "data": {
            "text/plain": [
              "'-:TqH`wvX@OW6D'"
            ],
            "application/vnd.google.colaboratory.intrinsic+json": {
              "type": "string"
            }
          },
          "metadata": {},
          "execution_count": 7
        }
      ]
    },
    {
      "cell_type": "code",
      "source": [
        "nationals = ['Juan', 'Bryce', 'Trea', 'Max']\n",
        "\n",
        "for player in nationals:\n",
        "  print(player + ' ' + give_me_a_password(14))\n",
        "\n",
        "# need to return the password in the function to store it in memory. just printing results in an error."
      ],
      "metadata": {
        "colab": {
          "base_uri": "https://localhost:8080/"
        },
        "id": "3RQQrIjd4rJE",
        "outputId": "7d833b3c-2f7f-40cc-fe3e-f3774b3e563f"
      },
      "execution_count": 8,
      "outputs": [
        {
          "output_type": "stream",
          "name": "stdout",
          "text": [
            "Juan iyy[|&N~#7pLIz\n",
            "Bryce b,0f9iEAXTWy?f\n",
            "Trea .]t!AKj8ZDMyND\n",
            "Max u-F{<GQc6xc#Y@\n"
          ]
        }
      ]
    },
    {
      "cell_type": "code",
      "source": [
        "# F to C to F converter\n",
        "\n",
        "def theworldiswrong(temp):\n",
        "  us = (temp*1.8)+32\n",
        "  print(us)\n",
        "  return(us)\n",
        "\n",
        "\n",
        "theworldiswrong(23)"
      ],
      "metadata": {
        "id": "eBNzE4Ul6W9W"
      },
      "execution_count": null,
      "outputs": []
    },
    {
      "cell_type": "code",
      "source": [
        "def nooooo(temp):\n",
        "  celsius = (temp -32)/1.8\n",
        "  print(celsius)\n",
        "  return(celsius)\n",
        "\n",
        "\n",
        "nooooo(23)"
      ],
      "metadata": {
        "id": "xFt2Z5sD7dNM"
      },
      "execution_count": null,
      "outputs": []
    },
    {
      "cell_type": "code",
      "source": [
        "def convert_temp(temp,unit):\n",
        "  if unit == 'Celsius' or unit == 'celsius' or unit == 'C' or unit == 'c':\n",
        "    nooooo(temp)\n",
        "  elif unit == 'Fahrenheit' or unit == 'fahrenheit' or unit == 'F' or unit == 'f':\n",
        "    theworldiswrong(temp)\n",
        "  else:\n",
        "    print('Units unclear, please try again.')\n",
        "\n",
        "# 'unit' is desired temp unit\n",
        "convert_temp(20, 'f')"
      ],
      "metadata": {
        "colab": {
          "base_uri": "https://localhost:8080/"
        },
        "id": "xmSSyuKO7ztV",
        "outputId": "d75cd7c9-1e03-4c2f-b5e0-05d15160816e"
      },
      "execution_count": 11,
      "outputs": [
        {
          "output_type": "stream",
          "name": "stdout",
          "text": [
            "68.0\n"
          ]
        }
      ]
    },
    {
      "cell_type": "code",
      "source": [
        "def battingaverage(hits, atbats):\n",
        "  p = hits/atbats\n",
        "  return(p)\n",
        "\n",
        "battingaverage(120, 290)\n",
        "\n",
        "\n",
        "def washington(int1, int2):\n",
        "  for i in range(int1,int2):\n",
        "    if i % 2 == 0:\n",
        "      print(i, 'is even')\n",
        "    else:\n",
        "      print(i, 'is odd')\n",
        "\n",
        "\n",
        "washington(12,13)"
      ],
      "metadata": {
        "colab": {
          "base_uri": "https://localhost:8080/"
        },
        "id": "tihjAJclJs7E",
        "outputId": "6eb0f0e1-ea73-420e-d194-befe56103649"
      },
      "execution_count": 35,
      "outputs": [
        {
          "output_type": "stream",
          "name": "stdout",
          "text": [
            "12 is even\n"
          ]
        }
      ]
    },
    {
      "cell_type": "code",
      "source": [
        "## Day 2: Functions ##\n",
        "\n",
        "\n",
        "x = 6\n",
        "bool(x>7)\n",
        "#help(bool)\n",
        "\n",
        "y = [18, 97]\n",
        "# bool(y<9)\n",
        "# breaks. can use a function.\n",
        "# functions take any kind of parameter\n",
        "\n",
        "def vals(vals, thresh):\n",
        "\n",
        "  '''\n",
        "  PURPOSE: Given a list of values, compare each value against a threshold.\n",
        "  INPUTS\n",
        "  vals -- list of ints or floats\n",
        "  thresh -- int or float\n",
        "\n",
        "  OUTPUT\n",
        "  bools -- list of booleans\n",
        "  '''\n",
        "\n",
        "  bools = [val >= thresh for val in vals]\n",
        "  return bools\n",
        "\n",
        "vals([9, 17, 987], 9)\n",
        "\n",
        "# Call the docstring to read about a function\n",
        "#print(bool.__doc__)"
      ],
      "metadata": {
        "id": "X_MrnQ-xKAKF",
        "colab": {
          "base_uri": "https://localhost:8080/"
        },
        "outputId": "c27a2a49-f8e2-44c3-ce91-dde2bb7b4c8c"
      },
      "execution_count": 3,
      "outputs": [
        {
          "output_type": "execute_result",
          "data": {
            "text/plain": [
              "[True, True, True]"
            ]
          },
          "metadata": {},
          "execution_count": 3
        }
      ]
    },
    {
      "cell_type": "code",
      "source": [
        "# Passing Parameters\n",
        "\n",
        "x = 1\n",
        "y = 2\n",
        "\n",
        "def fcn_swapped_args(x,y):\n",
        "  out = 5 * x + y\n",
        "  return out\n",
        "\n",
        "# order matters. first inputted value is x, second inputted value is y"
      ],
      "metadata": {
        "id": "zFgsoL_oNrEB"
      },
      "execution_count": 16,
      "outputs": []
    },
    {
      "cell_type": "code",
      "source": [
        "# Unpacking list-likes using *args\n",
        "\n",
        "def show_arg_expansion(*models):\n",
        "\n",
        "  print(\"models       :\", models)\n",
        "  print(\"input arg type  :\",  type(models))\n",
        "  print(\"input arg length:\", len(models))\n",
        "  print(\"-----------------------------\")\n",
        "\n",
        "  for mod in models:\n",
        "      print(mod)\n",
        "\n",
        "show_arg_expansion('logreg', 'naivebayes', 'abc')\n",
        "\n",
        "\n",
        "models= ['logreg', 'abc', 'def']\n",
        "show_arg_expansion(models)\n",
        "\n",
        "show_arg_expansion('a b c d e f g'.split())"
      ],
      "metadata": {
        "id": "87sfiVcPOr8N"
      },
      "execution_count": null,
      "outputs": []
    },
    {
      "cell_type": "code",
      "source": [
        "# Default Arguments\n",
        "\n",
        "def show_results(precision, printing= True):\n",
        "  precision = round(precision, 2)\n",
        "\n",
        "  if printing:\n",
        "    print('precision = ', precision)\n",
        "  return precision\n",
        "\n",
        "# Default arguments set the value when left unspecified\n",
        "# Defaults printing as TRUE (is a boolean and can be inputted, but if nothing is received assume true)\n",
        "\n",
        "\n",
        "pr = 0.912\n",
        "res = show_results(pr)"
      ],
      "metadata": {
        "id": "-kqebZ3bPljW"
      },
      "execution_count": null,
      "outputs": []
    },
    {
      "cell_type": "code",
      "source": [
        "## Global variables ##\n",
        "\n",
        "x = 7\n",
        "print(x)\n",
        "\n",
        "def call_x():\n",
        "  print(x)\n",
        "\n",
        "call_x()\n",
        "\n",
        "\n",
        "def private_var():\n",
        "  xx = 'charlottesville'\n",
        "\n",
        "private_var()\n",
        "# print(xx)\n",
        "# error: xx is a temporary var.\n",
        "\n",
        "\n",
        "def create_a_global_var():\n",
        "  global zz\n",
        "  zz = \"top\"\n",
        "\n",
        "create_a_global_var()\n",
        "print(zz)\n",
        "# zz is now printed: it is now a global variable\n",
        "\n",
        "\n",
        "mm = 17\n",
        "def update_the_global():\n",
        "  global mm\n",
        "  mm = 14\n",
        "  print(mm)\n",
        "\n",
        "update_the_global()\n",
        "print(mm)"
      ],
      "metadata": {
        "colab": {
          "base_uri": "https://localhost:8080/"
        },
        "id": "M9u2KtN4ZVCS",
        "outputId": "d64c0a85-bfe6-40ec-98dd-20b61352e5e7"
      },
      "execution_count": 30,
      "outputs": [
        {
          "output_type": "stream",
          "name": "stdout",
          "text": [
            "14\n"
          ]
        }
      ]
    },
    {
      "cell_type": "code",
      "source": [
        "# Validating Input\n",
        "\n",
        "var1 = 3\n",
        "var2 = 7.8\n",
        "\n",
        "def add_these_things(var1, var2):\n",
        "  return var1 + var2\n",
        "\n",
        "add_these_things(var1,var2)\n",
        "# concatenates strings, typeerror for str + int\n"
      ],
      "metadata": {
        "colab": {
          "base_uri": "https://localhost:8080/"
        },
        "id": "ytrqo-YFciZf",
        "outputId": "1ffa6cac-e680-4eb4-c080-15e35b2f9756"
      },
      "execution_count": 31,
      "outputs": [
        {
          "output_type": "execute_result",
          "data": {
            "text/plain": [
              "10.8"
            ]
          },
          "metadata": {},
          "execution_count": 31
        }
      ]
    },
    {
      "cell_type": "code",
      "source": [
        "def add_numbers(var3: int, var4: int) -> int:\n",
        "  if (type(var3) == int) and (type(var4) == int):\n",
        "    return var3 + var4\n",
        "  else:\n",
        "    return(\"Not possible\")\n",
        "\n",
        "add_numbers('hi', 4)"
      ],
      "metadata": {
        "colab": {
          "base_uri": "https://localhost:8080/",
          "height": 35
        },
        "id": "5YbUo-hPdkn-",
        "outputId": "51cf4e2a-4255-4563-d97b-92c9db7a1129"
      },
      "execution_count": 32,
      "outputs": [
        {
          "output_type": "execute_result",
          "data": {
            "text/plain": [
              "'Not possible'"
            ],
            "application/vnd.google.colaboratory.intrinsic+json": {
              "type": "string"
            }
          },
          "metadata": {},
          "execution_count": 32
        }
      ]
    },
    {
      "cell_type": "code",
      "source": [
        "var3, var4 = 14.9, 19.9\n",
        "add_numbers(var3, var4)\n",
        "\n",
        "add_numbers.__annotations__\n",
        "\n",
        "# if I still input string and int, will get same error message"
      ],
      "metadata": {
        "colab": {
          "base_uri": "https://localhost:8080/"
        },
        "id": "JZgaYIEyd26U",
        "outputId": "b606682e-486f-4cfb-8687-04f4a35297ec"
      },
      "execution_count": 33,
      "outputs": [
        {
          "output_type": "execute_result",
          "data": {
            "text/plain": [
              "{'var3': int, 'var4': int, 'return': int}"
            ]
          },
          "metadata": {},
          "execution_count": 33
        }
      ]
    },
    {
      "cell_type": "code",
      "source": [
        "def add_numbers():\n",
        "  var3 = input(\"Give me a first number:\")\n",
        "  var4 = input(\"Give me a second number\")\n",
        "  return int(var3) + int(var4)\n",
        "\n",
        "add_numbers()"
      ],
      "metadata": {
        "colab": {
          "base_uri": "https://localhost:8080/"
        },
        "id": "wZ4Wms5xf6K2",
        "outputId": "1e3fe0a9-9534-493e-df9b-f6d7fbd68004"
      },
      "execution_count": 34,
      "outputs": [
        {
          "name": "stdout",
          "output_type": "stream",
          "text": [
            "Give me a first number:5\n",
            "Give me a second number9\n"
          ]
        },
        {
          "output_type": "execute_result",
          "data": {
            "text/plain": [
              "14"
            ]
          },
          "metadata": {},
          "execution_count": 34
        }
      ]
    }
  ]
}