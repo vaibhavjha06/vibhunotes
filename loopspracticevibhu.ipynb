{
  "nbformat": 4,
  "nbformat_minor": 0,
  "metadata": {
    "colab": {
      "provenance": [],
      "authorship_tag": "ABX9TyP7qsE6LL1ztYXZL9lGrZ/5",
      "include_colab_link": true
    },
    "kernelspec": {
      "name": "python3",
      "display_name": "Python 3"
    },
    "language_info": {
      "name": "python"
    }
  },
  "cells": [
    {
      "cell_type": "markdown",
      "metadata": {
        "id": "view-in-github",
        "colab_type": "text"
      },
      "source": [
        "<a href=\"https://colab.research.google.com/github/vaibhavjha06/vibhunotes/blob/main/loopspracticevibhu.ipynb\" target=\"_parent\"><img src=\"https://colab.research.google.com/assets/colab-badge.svg\" alt=\"Open In Colab\"/></a>"
      ]
    },
    {
      "cell_type": "code",
      "execution_count": null,
      "metadata": {
        "colab": {
          "base_uri": "https://localhost:8080/"
        },
        "id": "DneIsr0VV_UQ",
        "outputId": "30540c32-d08c-4aea-ceb9-cf6144110da4"
      },
      "outputs": [
        {
          "output_type": "stream",
          "name": "stdout",
          "text": [
            "[2, 4, 6, 15, 3, 7, 22]\n",
            "[2, 4, 6, 15, 3, 7, 22]\n",
            "[2, 4, 6, 15, 3, 7, 22]\n",
            "[2, 4, 6, 15, 3, 7, 22]\n",
            "[2, 4, 6, 15, 3, 7, 22]\n",
            "[2, 4, 6, 15, 3, 7, 22]\n",
            "[2, 4, 6, 15, 3, 7, 22]\n"
          ]
        }
      ],
      "source": [
        "mylist = [2,4,6,15,3,7,22]\n",
        "\n",
        "for something in mylist:\n",
        "  print(mylist)\n",
        "# the first var in the for statement is a temporary var to refer to the item in the list\n",
        "# parses the list individually"
      ]
    },
    {
      "cell_type": "code",
      "source": [
        "fireball = ['eggs', 'toast', 'bagels', 'cereal', 'yogurt', 'coffeeeeeeeee', 'syrup']\n",
        "for food in fireball:\n",
        "  if food == 'eggs':\n",
        "    print('let\\'s go, eggs man')\n",
        "  else"
      ],
      "metadata": {
        "colab": {
          "base_uri": "https://localhost:8080/"
        },
        "id": "Smz7ajdpWdkC",
        "outputId": "2614311d-21bb-4b87-8381-1982fcd27909"
      },
      "execution_count": null,
      "outputs": [
        {
          "output_type": "stream",
          "name": "stdout",
          "text": [
            "let's go, eggs man\n"
          ]
        }
      ]
    },
    {
      "cell_type": "code",
      "source": [
        "for food in fireball:\n",
        "  if food == 'eggs':\n",
        "    continue\n",
        "  elif food == 'yogurt':\n",
        "      print('yogurt is here')\n",
        "  else: print(food)"
      ],
      "metadata": {
        "colab": {
          "base_uri": "https://localhost:8080/"
        },
        "id": "mJeuTXqlXzoE",
        "outputId": "9f81ee5c-87b5-47a1-b44d-e486483bff40"
      },
      "execution_count": null,
      "outputs": [
        {
          "output_type": "stream",
          "name": "stdout",
          "text": [
            "toast\n",
            "bagels\n",
            "cereal\n",
            "yogurt is here\n",
            "coffeeeeeeeee\n",
            "syrup\n"
          ]
        }
      ]
    },
    {
      "cell_type": "code",
      "source": [
        "mydict = {\n",
        "    'bryce' : 3,\n",
        "    'trea' : 7,\n",
        "    'food' : 'chicken tenders',\n",
        "    'city' : 'Paris'\n",
        "}"
      ],
      "metadata": {
        "id": "U3c7TsgSY_bo"
      },
      "execution_count": null,
      "outputs": []
    },
    {
      "cell_type": "code",
      "source": [
        "mydict.keys()\n",
        "mydict['food']\n",
        "\n",
        "for fave in mydict:\n",
        "  print(fave)\n",
        "# prints out keys\n",
        "for fave in mydict:\n",
        "  print(mydict[fave])\n",
        "# prints out values. To print out values in a dict, call the dictionary and index the keys."
      ],
      "metadata": {
        "id": "F06yvdD3Z5hH"
      },
      "execution_count": null,
      "outputs": []
    },
    {
      "cell_type": "code",
      "source": [
        "for key, value in mydict.items():\n",
        "  print(key, value, 'fifty')\n",
        "  print(value)"
      ],
      "metadata": {
        "colab": {
          "base_uri": "https://localhost:8080/"
        },
        "id": "e7O6kH63blLU",
        "outputId": "10b248f4-62c8-4c81-ff3f-64947f755af2"
      },
      "execution_count": null,
      "outputs": [
        {
          "output_type": "stream",
          "name": "stdout",
          "text": [
            "bryce 3 fifty\n",
            "3\n",
            "trea 7 fifty\n",
            "7\n",
            "food chicken tenders fifty\n",
            "chicken tenders\n",
            "city Paris fifty\n",
            "Paris\n"
          ]
        }
      ]
    },
    {
      "cell_type": "code",
      "source": [
        "mytupe = ('squirrels', 'rabbits', 'beavers', 'opposums', 'foxes', 'wolves', 'sheep')\n",
        "mytupe\n",
        "\n",
        "for thing in mytupe:\n",
        "  print(thing)\n",
        "\n",
        "for thing in mytupe:\n",
        "  if (thing != 'opposums'):\n",
        "    print(thing)\n",
        "  elif (thing == 'rabbits') or (thing == 'sheep'):\n",
        "    print(\"I have rabbits or sheep in my tuple\")\n",
        "  else:\n",
        "        continue"
      ],
      "metadata": {
        "colab": {
          "base_uri": "https://localhost:8080/"
        },
        "id": "deNsGTX8c7bp",
        "outputId": "53b62c0b-6db7-440f-844c-50e207786066"
      },
      "execution_count": null,
      "outputs": [
        {
          "output_type": "stream",
          "name": "stdout",
          "text": [
            "squirrels\n",
            "rabbits\n",
            "beavers\n",
            "opposums\n",
            "foxes\n",
            "wolves\n",
            "sheep\n",
            "squirrels\n",
            "rabbits\n",
            "beavers\n",
            "foxes\n",
            "wolves\n",
            "sheep\n"
          ]
        }
      ]
    }
  ]
}